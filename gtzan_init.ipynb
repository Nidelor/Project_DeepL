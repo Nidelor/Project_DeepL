{
 "cells": [
  {
   "cell_type": "code",
   "execution_count": 4,
   "metadata": {},
   "outputs": [],
   "source": [
    "import soundfile, torch\n",
    "import torchaudio"
   ]
  },
  {
   "cell_type": "code",
   "execution_count": 5,
   "metadata": {},
   "outputs": [
    {
     "ename": "TypeError",
     "evalue": "__init__() missing 1 required positional argument: 'root'",
     "output_type": "error",
     "traceback": [
      "\u001b[1;31m---------------------------------------------------------------------------\u001b[0m",
      "\u001b[1;31mTypeError\u001b[0m                                 Traceback (most recent call last)",
      "\u001b[1;32mc:\\Users\\quent\\Desktop\\FISEA2-MCE\\UE_D_Deep_Learning\\GIT\\Project_DeepL\\gtzan_init.ipynb Cellule 2\u001b[0m in \u001b[0;36m<cell line: 1>\u001b[1;34m()\u001b[0m\n\u001b[1;32m----> <a href='vscode-notebook-cell:/c%3A/Users/quent/Desktop/FISEA2-MCE/UE_D_Deep_Learning/GIT/Project_DeepL/gtzan_init.ipynb#W1sZmlsZQ%3D%3D?line=0'>1</a>\u001b[0m data \u001b[39m=\u001b[39m torchaudio\u001b[39m.\u001b[39;49mdatasets\u001b[39m.\u001b[39;49mGTZAN()\n",
      "\u001b[1;31mTypeError\u001b[0m: __init__() missing 1 required positional argument: 'root'"
     ]
    }
   ],
   "source": [
    "import matplotlib.pyplot as plt"
   ]
  },
  {
   "cell_type": "code",
   "execution_count": 31,
   "metadata": {},
   "outputs": [],
   "source": [
    "audiofile = r\"C:\\Users\\quent\\Desktop\\FISEA2-MCE\\UE_D_Deep_Learning\\GIT\\Project_DeepL\\genres_original\\classical\\classical.00000.wav\"\n",
    "\n",
    "waveform, sr = torchaudio.load(audiofile)"
   ]
  },
  {
   "cell_type": "code",
   "execution_count": 32,
   "metadata": {},
   "outputs": [
    {
     "data": {
      "text/plain": [
       "<All keys matched successfully>"
      ]
     },
     "execution_count": 32,
     "metadata": {},
     "output_type": "execute_result"
    }
   ],
   "source": [
    "from pytorch_model import SoundNet8_pytorch\n",
    "from utils import vector_to_scenes,vector_to_obj\n",
    "\n",
    "## define the soundnet model\n",
    "model = SoundNet8_pytorch()\n",
    "\n",
    "## Load the weights of the pretrained model\n",
    "model.load_state_dict(torch.load('sound8.pth'))"
   ]
  },
  {
   "cell_type": "code",
   "execution_count": 33,
   "metadata": {},
   "outputs": [],
   "source": [
    "# Reshape the data to the format expected by the model (Batch, 1, time, 1)\n",
    "waveform = waveform.view(1,1,-1,1)\n",
    "\n",
    "object_pred, scene_pred = model(waveform)\n"
   ]
  },
  {
   "cell_type": "code",
   "execution_count": 34,
   "metadata": {},
   "outputs": [
    {
     "name": "stdout",
     "output_type": "stream",
     "text": [
      "n03976657 pole\n",
      "n03976657 pole\n",
      "n04560804 water jug\n",
      "n03532672 hook, claw\n",
      "n03532672 hook, claw\n",
      "n03532672 hook, claw\n",
      "n03976657 pole\n",
      "\n",
      " now  the scene \n",
      "\n",
      "/p/pub/indoor\n",
      "/p/parking_garage/outdoor\n",
      "/p/pub/indoor\n",
      "/p/pub/indoor\n",
      "/h/hunting_lodge/outdoor\n",
      "/p/pub/indoor\n",
      "/p/pub/indoor\n"
     ]
    }
   ],
   "source": [
    "print()\n",
    "result_object = (vector_to_obj(object_pred.detach().numpy()))\n",
    "print(\"\\n now  the scene \\n\")\n",
    "result_place = (vector_to_scenes(scene_pred.detach().numpy()))\n",
    "\n"
   ]
  },
  {
   "cell_type": "code",
   "execution_count": null,
   "metadata": {},
   "outputs": [],
   "source": [
    "\n",
    "# traintestsplit le dataset\n",
    "# chosir quelle couche je prend de soundet pour le transfert learning\n",
    "# train un nouveau modèle simple (uen simple classification sur scikit-learn)\n",
    "\n"
   ]
  }
 ],
 "metadata": {
  "kernelspec": {
   "display_name": "Python 3.9.6 64-bit",
   "language": "python",
   "name": "python3"
  },
  "language_info": {
   "codemirror_mode": {
    "name": "ipython",
    "version": 3
   },
   "file_extension": ".py",
   "mimetype": "text/x-python",
   "name": "python",
   "nbconvert_exporter": "python",
   "pygments_lexer": "ipython3",
   "version": "3.9.6"
  },
  "orig_nbformat": 4,
  "vscode": {
   "interpreter": {
    "hash": "a771b7766c439f167a85454aa45440eda3d18649461135719fffb2235b2f5b6b"
   }
  }
 },
 "nbformat": 4,
 "nbformat_minor": 2
}
