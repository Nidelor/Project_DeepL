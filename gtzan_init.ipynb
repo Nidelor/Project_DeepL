{
 "cells": [
  {
   "cell_type": "markdown",
   "metadata": {},
   "source": [
    "# TRANSFERT LEARNING USING THE SOUNDNET MODEL ON THE GTZAN DATABASE"
   ]
  },
  {
   "cell_type": "markdown",
   "metadata": {},
   "source": [
    "### Import"
   ]
  },
  {
   "cell_type": "code",
   "execution_count": 125,
   "metadata": {},
   "outputs": [],
   "source": [
    "import soundfile, torch\n",
    "import torchaudio\n",
    "from sklearn.model_selection import train_test_split\n",
    "\n",
    "\n",
    "import matplotlib.pyplot as plt\n",
    "\n",
    "import os\n",
    "import glob\n",
    "\n",
    "import pandas as pd\n",
    "import numpy as np"
   ]
  },
  {
   "cell_type": "markdown",
   "metadata": {},
   "source": [
    "## Model\n",
    "### Here we are defining the model and loading the pre-trained soundnet model"
   ]
  },
  {
   "cell_type": "code",
   "execution_count": 4,
   "metadata": {},
   "outputs": [
    {
     "data": {
      "text/plain": [
       "<All keys matched successfully>"
      ]
     },
     "execution_count": 4,
     "metadata": {},
     "output_type": "execute_result"
    }
   ],
   "source": [
    "from pytorch_model import SoundNet8_pytorch\n",
    "from utils import vector_to_scenes,vector_to_obj\n",
    "\n",
    "## define the soundnet model\n",
    "model = SoundNet8_pytorch()\n",
    "\n",
    "## Load the weights of the pretrained model\n",
    "model.load_state_dict(torch.load('sound8.pth'))"
   ]
  },
  {
   "cell_type": "markdown",
   "metadata": {},
   "source": [
    "### We define the all the data paths"
   ]
  },
  {
   "cell_type": "code",
   "execution_count": 99,
   "metadata": {},
   "outputs": [],
   "source": [
    "genre_dict = {\"blues\":0,\"classical\":1,\"country\":2,\"disco\":3,\"hiphop\":4,\"jazz\":5,\"metal\":6,\"pop\":7,\"reggae\":8,\"rock\":9}\n",
    "\n",
    "# Get all the audio file path\n",
    "df = pd.read_csv(\"features_30_sec.csv\")\n",
    "list_filename = list(df.filename)\n",
    "\n",
    "# Split the list in sublists by genre\n",
    "list_filepath = []\n",
    "for i in range(10):\n",
    "    list_filepath.append(list_filename[100*i: 100*(i+1)])\n",
    "\n",
    "# Complete all the paths\n",
    "list_audiofile_path = []\n",
    "\n",
    "for genre, key in genre_dict.items():\n",
    "    sublist = []\n",
    "    \n",
    "    for filepath in list_filepath[key]:\n",
    "        if filepath ==\n",
    "        path = os.path.join(r\".\\genres_original\", genre , filepath )\n",
    "        sublist.append(path)\n",
    "        \n",
    "    list_audiofile_path.append(sublist)\n",
    "    \n",
    "    "
   ]
  },
  {
   "cell_type": "markdown",
   "metadata": {},
   "source": [
    "We want to isolate the fifth layer features and then re-classify them with a classifier method\n",
    "\n",
    "After testing we find that the dimension of the fifth layer features are (1,256,81,1)"
   ]
  },
  {
   "cell_type": "markdown",
   "metadata": {},
   "source": [
    "## Functions "
   ]
  },
  {
   "cell_type": "code",
   "execution_count": 67,
   "metadata": {},
   "outputs": [],
   "source": [
    "# Collect the features wanted from the soundnet modelling of the given audiofile_path\n",
    "\n",
    "def get_soundnet_features(audiofile_path, n_feature):\n",
    "    waveform, sr = torchaudio.load(audiofile_path)\n",
    "    # Reshape the data to the format expected by the model (Batch, 1, time, 1)\n",
    "    waveform = waveform.view(1,1,-1,1)\n",
    "\n",
    "    # Extract the features we want\n",
    "    features = model.extract_feat(waveform)  #features 7 and 8 are object_pred and scene_pred\n",
    "\n",
    "    # Get the good features\n",
    "    feature = features[n_feature]\n",
    "\n",
    "    return feature"
   ]
  },
  {
   "cell_type": "code",
   "execution_count": 131,
   "metadata": {},
   "outputs": [],
   "source": [
    "# Extract all the fifth layer features and so, create the dataset we will perform the classification on\n",
    "\n",
    "def create_dataset(list_of_path, genre_dict, n_feature):\n",
    "    X = []\n",
    "    Y = []\n",
    "\n",
    "    for genre, key in genre_dict.items():\n",
    "        for path in list_of_path[key]:\n",
    "            if path != '.\\\\genres_original\\\\jazz\\\\jazz.00054.wav':\n",
    "                X.append(np.array(get_soundnet_features(path, n_feature-1)))\n",
    "                Y.append(genre)\n",
    "\n",
    "    return X, Y\n",
    "\n",
    "\n",
    "x,y = create_dataset(list_audiofile_path, genre_dict, 5)"
   ]
  },
  {
   "cell_type": "code",
   "execution_count": 130,
   "metadata": {},
   "outputs": [
    {
     "ename": "ValueError",
     "evalue": "setting an array element with a sequence. The requested array has an inhomogeneous shape after 3 dimensions. The detected shape was (999, 1, 256) + inhomogeneous part.",
     "output_type": "error",
     "traceback": [
      "\u001b[1;31m---------------------------------------------------------------------------\u001b[0m",
      "\u001b[1;31mValueError\u001b[0m                                Traceback (most recent call last)",
      "\u001b[1;32mc:\\Users\\quent\\Desktop\\FISEA2-MCE\\UE_D_Deep_Learning\\GIT\\Project_DeepL\\gtzan_init.ipynb Cellule 12\u001b[0m in \u001b[0;36m<cell line: 1>\u001b[1;34m()\u001b[0m\n\u001b[1;32m----> <a href='vscode-notebook-cell:/c%3A/Users/quent/Desktop/FISEA2-MCE/UE_D_Deep_Learning/GIT/Project_DeepL/gtzan_init.ipynb#X33sZmlsZQ%3D%3D?line=0'>1</a>\u001b[0m x \u001b[39m=\u001b[39m np\u001b[39m.\u001b[39;49marray(x, ndmin \u001b[39m=\u001b[39;49m \u001b[39m4\u001b[39;49m, dtype\u001b[39m=\u001b[39;49m\u001b[39mfloat\u001b[39;49m)\n",
      "\u001b[1;31mValueError\u001b[0m: setting an array element with a sequence. The requested array has an inhomogeneous shape after 3 dimensions. The detected shape was (999, 1, 256) + inhomogeneous part."
     ]
    }
   ],
   "source": []
  },
  {
   "cell_type": "code",
   "execution_count": 124,
   "metadata": {},
   "outputs": [
    {
     "name": "stdout",
     "output_type": "stream",
     "text": [
      "The size of our dataset is 999 and there are 10 classes.\n",
      "The format of the input data is (256, 81, 1).\n"
     ]
    }
   ],
   "source": [
    "print(\"The size of our dataset is \" + str(len(x)) + \" and there are \" + str(len(genre_dict)) + \" classes.\\nThe format of the input data is \" + str((len(x[0][0]),len(x[0][0][0]),len(x[0][0][0][0]))) + \".\" )"
   ]
  },
  {
   "cell_type": "code",
   "execution_count": null,
   "metadata": {},
   "outputs": [],
   "source": [
    "# traintestsplit le dataset\n",
    "# chosir quelle couche je prend de soundet pour le transfert learning fait\n",
    "# train un nouveau modèle simple (uen simple classification sur scikit-learn)\n",
    "# comparer les résultats"
   ]
  }
 ],
 "metadata": {
  "kernelspec": {
   "display_name": "Python 3.9.6 64-bit",
   "language": "python",
   "name": "python3"
  },
  "language_info": {
   "codemirror_mode": {
    "name": "ipython",
    "version": 3
   },
   "file_extension": ".py",
   "mimetype": "text/x-python",
   "name": "python",
   "nbconvert_exporter": "python",
   "pygments_lexer": "ipython3",
   "version": "3.9.6"
  },
  "orig_nbformat": 4,
  "vscode": {
   "interpreter": {
    "hash": "a771b7766c439f167a85454aa45440eda3d18649461135719fffb2235b2f5b6b"
   }
  }
 },
 "nbformat": 4,
 "nbformat_minor": 2
}
